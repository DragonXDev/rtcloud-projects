{
 "cells": [
  {
   "cell_type": "code",
   "execution_count": null,
   "id": "dbd6b116-7872-4a7d-8226-da57408335b5",
   "metadata": {},
   "outputs": [],
   "source": []
  }
 ],
 "metadata": {
  "kernelspec": {
   "display_name": "",
   "name": ""
  },
  "language_info": {
   "name": ""
  }
 },
 "nbformat": 4,
 "nbformat_minor": 5
}
